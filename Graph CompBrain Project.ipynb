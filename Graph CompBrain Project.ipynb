{
 "cells": [
  {
   "cell_type": "code",
   "execution_count": 1,
   "metadata": {},
   "outputs": [],
   "source": [
    "import matplotlib.pyplot as plt\n",
    "import numpy as np"
   ]
  },
  {
   "cell_type": "code",
   "execution_count": 2,
   "metadata": {},
   "outputs": [],
   "source": [
    "def draw_graph(x_vals, y_vals, label, model_name):\n",
    "    plt.plot(x_vals, y_vals, 'ro', label=label, color='red')\n",
    "\n",
    "    plt.xlabel('Epoch')\n",
    "    plt.ylabel('Precision')\n",
    "\n",
    "    plt.title(\"Model: \" + model_name)\n",
    "\n",
    "    plt.legend()\n",
    "\n",
    "    plt.show()"
   ]
  },
  {
   "cell_type": "code",
   "execution_count": 3,
   "metadata": {},
   "outputs": [
    {
     "name": "stdout",
     "output_type": "stream",
     "text": [
      "0.327\n"
     ]
    }
   ],
   "source": [
    "line = \"Test: [0/100]\tTime 0.327 (0.327)\tLoss 1.4944 (1.4944)\tPrec 52.000% (52.000%)\"\n",
    "time = line.split()[3]\n",
    "print(time)"
   ]
  },
  {
   "cell_type": "code",
   "execution_count": 4,
   "metadata": {},
   "outputs": [],
   "source": [
    "def get_graph_helper(data, model_name):\n",
    "    epoch_num = 0\n",
    "    lines_in_epoch = -1\n",
    "    times = []\n",
    "    precs = []\n",
    "    data_dict = {}\n",
    "    avg_list = []\n",
    "\n",
    "    for line in data:\n",
    "        if line.startswith(' * Prec'):\n",
    "            avg_list += [float(line.split()[2][:-1])]\n",
    "        if line.startswith('Test'):\n",
    "            lines_in_epoch += 1\n",
    "            epoch_num = lines_in_epoch // 10\n",
    "            if lines_in_epoch % 10 == 0:\n",
    "                data_dict[epoch_num] = []\n",
    "            prec = float(line.split()[9][:-1])\n",
    "            data_dict[epoch_num] += [prec]\n",
    "    num_epochs = 10\n",
    "    draw_graph(range(num_epochs), avg_list, \"avg\", model_name)\n",
    "    print(avg_list)\n",
    "    return num_epochs, avg_list, data_dict"
   ]
  },
  {
   "cell_type": "code",
   "execution_count": 5,
   "metadata": {},
   "outputs": [],
   "source": [
    "def graph_prec_epoch(data, model_name):\n",
    "    num_epochs, avg_list, data_dict = get_graph_helper(data, model_name)\n",
    "    import matplotlib.cm as cm\n",
    "\n",
    "    plt.plot(range(num_epochs), avg_list, label=\"AVG\", color='red')\n",
    "    for epoch_num in range(num_epochs):\n",
    "        precs = data_dict[epoch_num]\n",
    "        colors = cm.rainbow(np.linspace(0, 1, len(precs)))\n",
    "        for y, c in zip(precs, colors):\n",
    "            plt.scatter(epoch_num, y, color=c)\n",
    "\n",
    "\n",
    "    plt.xticks([i for i in range(10)])\n",
    "    plt.xlabel('Epoch')\n",
    "    plt.ylabel('Precision')\n",
    "\n",
    "    plt.title(\"Model: \" + model_name)\n",
    "\n",
    "    plt.legend()\n",
    "    plt.show()\n",
    "    "
   ]
  },
  {
   "cell_type": "code",
   "execution_count": 6,
   "metadata": {},
   "outputs": [
    {
     "ename": "FileNotFoundError",
     "evalue": "[Errno 2] No such file or directory: 'graph_text/resnet20_cifar_data.txt'",
     "output_type": "error",
     "traceback": [
      "\u001b[0;31m---------------------------------------------------------------------------\u001b[0m",
      "\u001b[0;31mFileNotFoundError\u001b[0m                         Traceback (most recent call last)",
      "\u001b[0;32m<ipython-input-6-ab8df7a9ae85>\u001b[0m in \u001b[0;36m<module>\u001b[0;34m()\u001b[0m\n\u001b[1;32m     15\u001b[0m ]\n\u001b[1;32m     16\u001b[0m \u001b[0;32mfor\u001b[0m \u001b[0mmodel_name\u001b[0m \u001b[0;32min\u001b[0m \u001b[0mmodel_list\u001b[0m\u001b[0;34m:\u001b[0m\u001b[0;34m\u001b[0m\u001b[0m\n\u001b[0;32m---> 17\u001b[0;31m     \u001b[0mdata\u001b[0m \u001b[0;34m=\u001b[0m \u001b[0mopen\u001b[0m\u001b[0;34m(\u001b[0m\u001b[0;34m\"graph_text/\"\u001b[0m \u001b[0;34m+\u001b[0m \u001b[0mmodel_name\u001b[0m \u001b[0;34m+\u001b[0m \u001b[0;34m\".txt\"\u001b[0m\u001b[0;34m,\u001b[0m \u001b[0;34m\"r\"\u001b[0m\u001b[0;34m)\u001b[0m\u001b[0;34m\u001b[0m\u001b[0m\n\u001b[0m\u001b[1;32m     18\u001b[0m     \u001b[0mgraph_prec_epoch\u001b[0m\u001b[0;34m(\u001b[0m\u001b[0mdata\u001b[0m\u001b[0;34m,\u001b[0m \u001b[0mmodel_name\u001b[0m\u001b[0;34m)\u001b[0m\u001b[0;34m\u001b[0m\u001b[0m\n",
      "\u001b[0;31mFileNotFoundError\u001b[0m: [Errno 2] No such file or directory: 'graph_text/resnet20_cifar_data.txt'"
     ]
    }
   ],
   "source": [
    "# data = open(\"graph_text/resnet20_cifar_data.txt\", \"r\")\n",
    "# data = open(\"graph_text/2_resnet32_cifar.txt\", \"r\")\n",
    "model_list = [\n",
    "    \"1_Dataresnet20_cifar\",\n",
    "    \"2_resnet32_cifar\",\n",
    "    \"3_resnet44_cifar\",\n",
    "#     \"4_resnet110_cifar\",\n",
    "#     \"5_preact_resnet110_cifar\",\n",
    "#     \"6_resnet164_cifar_100classes\",\n",
    "#     \"7_resnet1001_cifar_100classes\",\n",
    "#     \"8_resnet1001_cifar_100classes\",\n",
    "#     \"9_preact_resnet164_cifar_100classes\",\n",
    "#     \"10_preact_resnet1001_cifar_100_classes\"\n",
    "    \"resnet20_cifar_data\",\n",
    "]\n",
    "for model_name in model_list:\n",
    "    data = open(\"graph_text/\" + model_name + \".txt\", \"r\")\n",
    "    graph_prec_epoch(data, model_name)"
   ]
  },
  {
   "cell_type": "code",
   "execution_count": null,
   "metadata": {},
   "outputs": [],
   "source": []
  }
 ],
 "metadata": {
  "kernelspec": {
   "display_name": "Python 3",
   "language": "python",
   "name": "python3"
  },
  "language_info": {
   "codemirror_mode": {
    "name": "ipython",
    "version": 3
   },
   "file_extension": ".py",
   "mimetype": "text/x-python",
   "name": "python",
   "nbconvert_exporter": "python",
   "pygments_lexer": "ipython3",
   "version": "3.7.0"
  }
 },
 "nbformat": 4,
 "nbformat_minor": 2
}
